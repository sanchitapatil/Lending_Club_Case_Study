{
 "cells": [
  {
   "cell_type": "markdown",
   "id": "7d544444-dfca-450a-9564-7a1c6de3d423",
   "metadata": {},
   "source": [
    "# Problem Statement:\n",
    "The primary challenge for the leading online loan marketplace is to mitigate credit loss effectively by identifying and understanding the driving factors contributing to loan defaults. By leveraging Exploratory Data Analysis (EDA), the company aims to pinpoint the key variables strongly associated with loan defaults, thereby enabling precise risk assessment and portfolio management."
   ]
  },
  {
   "cell_type": "markdown",
   "id": "16651a5d-86d3-4992-9ed9-520f5c272f65",
   "metadata": {},
   "source": [
    "# Objective:\n",
    "To uncover the significant predictors of loan defaults through EDA, enabling the company to enhance its risk assessment strategies and minimize credit losses."
   ]
  },
  {
   "cell_type": "code",
   "execution_count": 1,
   "id": "08bd53c8-de99-4228-a598-cd997af90a61",
   "metadata": {},
   "outputs": [],
   "source": [
    "## Importing Libraries\n",
    "import pandas as pd\n",
    "import numpy as np\n",
    "import matplotlib.pyplot as plt\n",
    "import seaborn as sns\n",
    "import warnings\n",
    "warnings.filterwarnings('ignore')"
   ]
  },
  {
   "cell_type": "code",
   "execution_count": null,
   "id": "e669b683-0b86-4a68-8f05-2c198b8a8cd3",
   "metadata": {},
   "outputs": [],
   "source": [
    "## Importing Data\n",
    "\n",
    "df = pd.read_csv(\"loan.csv\")\n",
    "df.head()"
   ]
  },
  {
   "cell_type": "code",
   "execution_count": null,
   "id": "037d080e",
   "metadata": {},
   "outputs": [],
   "source": []
  }
 ],
 "metadata": {
  "kernelspec": {
   "display_name": "Python 3 (ipykernel)",
   "language": "python",
   "name": "python3"
  },
  "language_info": {
   "codemirror_mode": {
    "name": "ipython",
    "version": 3
   },
   "file_extension": ".py",
   "mimetype": "text/x-python",
   "name": "python",
   "nbconvert_exporter": "python",
   "pygments_lexer": "ipython3",
   "version": "3.11.7"
  }
 },
 "nbformat": 4,
 "nbformat_minor": 5
}
